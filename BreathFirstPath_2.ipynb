{
 "cells": [
  {
   "cell_type": "code",
   "execution_count": 67,
   "metadata": {},
   "outputs": [],
   "source": [
    "class SearchNode:\n",
    "    def __init__(self, state, action=-1, prevNode=None):\n",
    "        self.state = state\n",
    "        self.action = action\n",
    "        self.prevNode = prevNode\n",
    "\n",
    "def traversePath(node, visitFunc):\n",
    "    if (node == None):\n",
    "        return # rekursion loppuehto\n",
    "    traversePath(node.prevNode, visitFunc)\n",
    "    visitFunc(node)\n",
    "    "
   ]
  },
  {
   "cell_type": "code",
   "execution_count": 68,
   "metadata": {},
   "outputs": [],
   "source": [
    "actions = [[-1, 0], [1, 0]]\n",
    "\n",
    "# Suorittaa annetun actionin nykyisestä tilasta eteenpäin\n",
    "def makeAction(currentState, actionId):\n",
    "    deltaAction = actions[actionId]\n",
    "    newState = []\n",
    "    for i in range(len(currentState)):\n",
    "        newState.append(currentState[i]+deltaAction[i])\n",
    "    return newState\n",
    "\n",
    "def getNextNodes(prevNode, actionCount):\n",
    "    NextNodes = []\n",
    "    for actionId in range(actionCount):\n",
    "        NextNodes.append(stepAction(prevNode,actionId))\n",
    "    return NextNodes"
   ]
  },
  {
   "cell_type": "code",
   "execution_count": 69,
   "metadata": {},
   "outputs": [],
   "source": [
    "def printNode(node):\n",
    "    print(\"State:\" + str(node.state) + \"Action: \" + str(node.action))\n",
    "\n",
    "# Suorittaa actionin nykyiseen tilaan ja tekee uuden solmun\n",
    "def stepAction(prevNode, actionId):\n",
    "    newState = makeAction(prevNode.state, actionId)\n",
    "    return SearchNode(newState, actionId, prevNode)"
   ]
  },
  {
   "cell_type": "code",
   "execution_count": 70,
   "metadata": {},
   "outputs": [
    {
     "name": "stdout",
     "output_type": "stream",
     "text": [
      "State:[0, 0]Action: -1\n",
      "State:[1, 0]Action: 1\n",
      "State:[2, 0]Action: 1\n",
      "State:[3, 0]Action: 1\n",
      "State:[4, 0]Action: 1\n",
      "State:[5, 0]Action: 1\n"
     ]
    }
   ],
   "source": [
    "# Tee muutama action\n",
    "initialState = [0, 0]\n",
    "node = SearchNode(initialState)\n",
    "printNode(node)\n",
    "\n",
    "\n",
    "for i in range(5):\n",
    "    # Tee action oikealle actionID:llä 1\n",
    "    node = stepAction(node, 1)\n",
    "    printNode(node)\n"
   ]
  },
  {
   "cell_type": "code",
   "execution_count": 71,
   "metadata": {},
   "outputs": [
    {
     "name": "stdout",
     "output_type": "stream",
     "text": [
      "State:[0, 0]Action: -1\n",
      "State:[1, 0]Action: 1\n",
      "State:[2, 0]Action: 1\n",
      "State:[3, 0]Action: 1\n",
      "State:[4, 0]Action: 1\n",
      "State:[5, 0]Action: 1\n"
     ]
    }
   ],
   "source": [
    "traversePath(node, printNode)"
   ]
  },
  {
   "cell_type": "code",
   "execution_count": 72,
   "metadata": {},
   "outputs": [
    {
     "name": "stdout",
     "output_type": "stream",
     "text": [
      "State:[0, 0]Action: -1\n",
      "polku 1: \n",
      "State:[0, 0]Action: -1\n",
      "State:[-1, 0]Action: 0\n",
      "polku 2: \n",
      "State:[0, 0]Action: -1\n",
      "State:[1, 0]Action: 1\n"
     ]
    }
   ],
   "source": [
    "node = SearchNode([0, 0])\n",
    "printNode(node)\n",
    "\n",
    "nextNodes = getNextNodes(node, len(actions))\n",
    "\n",
    "len(nextNodes)\n",
    "print(\"polku 1: \")\n",
    "traversePath(nextNodes[0], printNode)\n",
    "print(\"polku 2: \")\n",
    "traversePath(nextNodes[1], printNode)\n"
   ]
  },
  {
   "cell_type": "code",
   "execution_count": 73,
   "metadata": {},
   "outputs": [
    {
     "name": "stdout",
     "output_type": "stream",
     "text": [
      "laajennettu polku 1: \n",
      "polku 1/1: \n",
      "State:[0, 0]Action: -1\n",
      "State:[-1, 0]Action: 0\n",
      "State:[-2, 0]Action: 0\n",
      "polku 1/2: \n",
      "State:[0, 0]Action: -1\n",
      "State:[-1, 0]Action: 0\n",
      "State:[0, 0]Action: 1\n"
     ]
    }
   ],
   "source": [
    "print(\"laajennettu polku 1: \")\n",
    "nextNodes1 = getNextNodes(nextNodes[0], len(actions))\n",
    "len(nextNodes1)\n",
    "print(\"polku 1/1: \")\n",
    "traversePath(nextNodes1[0], printNode)\n",
    "print(\"polku 1/2: \")\n",
    "traversePath(nextNodes1[1], printNode)"
   ]
  },
  {
   "cell_type": "code",
   "execution_count": 74,
   "metadata": {},
   "outputs": [
    {
     "name": "stdout",
     "output_type": "stream",
     "text": [
      "laajennettu polku 2: \n",
      "polku 2/1: \n",
      "State:[0, 0]Action: -1\n",
      "State:[1, 0]Action: 1\n",
      "State:[0, 0]Action: 0\n",
      "polku 2/2: \n",
      "State:[0, 0]Action: -1\n",
      "State:[1, 0]Action: 1\n",
      "State:[2, 0]Action: 1\n"
     ]
    }
   ],
   "source": [
    "print(\"laajennettu polku 2: \")\n",
    "nextNodes2 = getNextNodes(nextNodes[1], len(actions))\n",
    "len(nextNodes2)\n",
    "print(\"polku 2/1: \")\n",
    "traversePath(nextNodes2[0], printNode)\n",
    "print(\"polku 2/2: \")\n",
    "traversePath(nextNodes2[1], printNode)"
   ]
  },
  {
   "cell_type": "code",
   "execution_count": null,
   "metadata": {},
   "outputs": [],
   "source": []
  },
  {
   "cell_type": "code",
   "execution_count": null,
   "metadata": {},
   "outputs": [
    {
     "name": "stdout",
     "output_type": "stream",
     "text": [
      "katsottu video kohtaan 20min\n"
     ]
    }
   ],
   "source": [
    "print(f'katsottu video kohtaan 15:00 ')\n",
    "\n",
    "linkki = \"https://www.youtube.com/watch?v=HHAPEFoPOdE&list=PLadRxrHJkUqzoVmzO-CQWwhO93IAjChOp&index=16\""
   ]
  },
  {
   "cell_type": "code",
   "execution_count": null,
   "metadata": {},
   "outputs": [],
   "source": []
  }
 ],
 "metadata": {
  "kernelspec": {
   "display_name": "venv",
   "language": "python",
   "name": "python3"
  },
  "language_info": {
   "codemirror_mode": {
    "name": "ipython",
    "version": 3
   },
   "file_extension": ".py",
   "mimetype": "text/x-python",
   "name": "python",
   "nbconvert_exporter": "python",
   "pygments_lexer": "ipython3",
   "version": "3.11.6"
  }
 },
 "nbformat": 4,
 "nbformat_minor": 2
}
