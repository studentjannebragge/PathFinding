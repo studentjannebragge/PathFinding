{
 "cells": [
  {
   "cell_type": "code",
   "execution_count": 42,
   "metadata": {},
   "outputs": [],
   "source": [
    "import matplotlib\n",
    "import numpy \n",
    "import matplotlib.pyplot as plt\n",
    "import math\n",
    "%matplotlib inline\n",
    "\n",
    "def printMap(level):\n",
    "    pixel_plot = plt.figure()\n",
    "    pixel_plot.add_subplot()\n",
    "    plt.title(\"Map\")\n",
    "    pixel_plot = plt.imshow(level, cmap='Greens', interpolation='nearest', origin='upper', vmax=5)\n",
    "    plt.colorbar(pixel_plot)\n",
    "    plt.show()\n",
    "\n",
    "def putPixel(level, position, value):\n",
    "    x = position[0]\n",
    "    y = position[1]\n",
    "    level[y][x] = value"
   ]
  },
  {
   "cell_type": "code",
   "execution_count": 43,
   "metadata": {},
   "outputs": [],
   "source": [
    "class SearchNode:\n",
    "    def __init__(self, state, action=-1, prevNode=None):\n",
    "        self.state = state\n",
    "        self.action = action\n",
    "        self.prevNode = prevNode\n",
    "        self.totalG = 0 # kustannus alusta nykyiseen tilaan\n",
    "        self.heuristicCost = 0 # Arvioitu kustannus loppuun\n",
    "        \n",
    "\n",
    "\n",
    "def traversePath(node, visitFunc):\n",
    "    if (node == None):\n",
    "        return # rekursion loppuehto\n",
    "    traversePath(node.prevNode, visitFunc)\n",
    "    visitFunc(node)"
   ]
  },
  {
   "cell_type": "code",
   "execution_count": 44,
   "metadata": {},
   "outputs": [],
   "source": [
    "def breadthFirstSearch(agentState, isGoal, branch):\n",
    "    # lisää alkutila open listiin\n",
    "    openList = [SearchNode(agentState)]\n",
    "    closedList = []\n",
    "    goaledNode = None\n",
    "\n",
    "    def isInClosedList(node):\n",
    "        for n in closedList:\n",
    "            if(node.state == n.state):\n",
    "                return True #löytyi\n",
    "        return False #ei löytynyt\n",
    "\n",
    "    while len(openList) > 0 and goaledNode == None:\n",
    "        currentNode = openList[0]\n",
    "        openList.pop(0)\n",
    "        if(isInClosedList(currentNode)):\n",
    "            continue\n",
    "\n",
    "        # lisää solmu closed listaan\n",
    "        closedList.append(currentNode)\n",
    "        if isGoalFound(currentNode):\n",
    "            goaledNode = currentNode\n",
    "            continue\n",
    "\n",
    "        # Laske seuraavat naapurisolmut\n",
    "        adjacentNodes = branch(currentNode) # kutsu branch funktiota kanditaattien saamiseksi\n",
    "        for n in adjacentNodes:\n",
    "            openList.append(n)  \n",
    "\n",
    "\n",
    "    return goaledNode, openList"
   ]
  },
  {
   "cell_type": "code",
   "execution_count": 45,
   "metadata": {},
   "outputs": [],
   "source": [
    "def dijkstra(agentState, popBest, isGoal, branch):\n",
    "    # lisää alkutila open listiin\n",
    "    openList = [SearchNode(agentState)]\n",
    "    closedList = []\n",
    "    goaledNode = None\n",
    "\n",
    "    def isInClosedList(node):\n",
    "        for n in closedList:\n",
    "            if(node.state == n.state):\n",
    "                return True #löytyi\n",
    "        return False #ei löytynyt\n",
    "\n",
    "    while len(openList) > 0 and goaledNode == None:\n",
    "        currentNode = popBest(openList)\n",
    "\n",
    "        # lisää solmu closed listaan\n",
    "        closedList.append(currentNode)\n",
    "        if isGoalFound(currentNode):\n",
    "            goaledNode = currentNode\n",
    "            continue\n",
    "\n",
    "        # Laske seuraavat naapurisolmut\n",
    "        adjacentNodes = branch(currentNode) # kutsu branch funktiota kanditaattien saamiseksi\n",
    "        for n in adjacentNodes:\n",
    "            if(isInClosedList(n)):\n",
    "                continue\n",
    "            closedList.append(n)\n",
    "            openList.append(n)  \n",
    "\n",
    "\n",
    "    return goaledNode, openList"
   ]
  },
  {
   "cell_type": "code",
   "execution_count": null,
   "metadata": {},
   "outputs": [],
   "source": []
  },
  {
   "cell_type": "code",
   "execution_count": null,
   "metadata": {},
   "outputs": [],
   "source": []
  },
  {
   "cell_type": "code",
   "execution_count": 46,
   "metadata": {},
   "outputs": [
    {
     "name": "stdout",
     "output_type": "stream",
     "text": [
      "[0, 0, 0, 0, 0, 0, 0, 0, 0, 0, 0, 0, 0, 0, 0, 0, 0, 0, 0, 0]\n",
      "[0, 0, 0, 0, 0, 0, 0, 0, 0, 0, 0, 0, 0, 0, 0, 0, 0, 0, 0, 0]\n",
      "[0, 0, 0, 0, 0, 0, 0, 0, 0, 0, 0, 0, 0, 0, 0, 0, 0, 0, 0, 0]\n",
      "[0, 0, 0, 0, 0, 0, 0, 0, 0, 0, 0, 0, 0, 0, 0, 0, 0, 0, 0, 0]\n",
      "[0, 0, 0, 0, 0, 0, 0, 0, 0, 0, 0, 0, 0, 0, 0, 0, 0, 0, 0, 0]\n",
      "[0, 0, 0, 0, 0, 0, 0, 0, 0, 0, 0, 0, 0, 0, 0, 0, 0, 0, 0, 0]\n",
      "[0, 0, 0, 0, 0, 0, 0, 0, 0, 0, 0, 0, 0, 0, 0, 0, 0, 0, 0, 0]\n",
      "[0, 0, 0, 0, 0, 0, 0, 0, 0, 0, 0, 0, 0, 0, 0, 0, 0, 0, 0, 0]\n",
      "[0, 0, 0, 0, 0, 0, 0, 0, 0, 0, 0, 0, 0, 0, 0, 0, 0, 0, 0, 0]\n",
      "[0, 0, 0, 0, 0, 0, 0, 0, 0, 0, 0, 0, 0, 0, 0, 0, 0, 0, 0, 0]\n",
      "[0, 0, 0, 0, 0, 0, 0, 0, 0, 0, 0, 0, 0, 0, 0, 0, 0, 0, 0, 0]\n",
      "[0, 0, 0, 0, 0, 0, 0, 0, 0, 0, 0, 0, 0, 0, 0, 0, 0, 0, 0, 0]\n",
      "[0, 0, 0, 0, 0, 0, 0, 0, 0, 0, 0, 0, 0, 0, 0, 0, 0, 0, 0, 0]\n",
      "[0, 0, 0, 0, 0, 0, 0, 0, 0, 0, 0, 0, 0, 0, 0, 0, 0, 0, 0, 0]\n",
      "[0, 0, 0, 0, 0, 0, 0, 0, 0, 0, 0, 0, 0, 0, 0, 0, 0, 0, 0, 0]\n",
      "[0, 0, 0, 0, 0, 0, 0, 0, 0, 0, 0, 0, 0, 0, 0, 0, 0, 0, 0, 0]\n",
      "[0, 0, 0, 0, 0, 0, 0, 0, 0, 0, 0, 0, 0, 0, 0, 0, 0, 0, 0, 0]\n",
      "[0, 0, 0, 0, 0, 0, 0, 0, 0, 0, 0, 0, 0, 0, 0, 0, 0, 0, 0, 0]\n"
     ]
    }
   ],
   "source": [
    "# Ratkaistava ongelma\n",
    "\n",
    "#alkutilanne:\n",
    "initialState = [1, 0]\n",
    "\n",
    "# maalifunktio:\n",
    "def isGoalFound(node):\n",
    "    return node.state[0] == 4 and node.state[1] == 6   # goal tilassa 0, 6\n",
    "\n",
    "# actionit taulukoituna: (0 suuntaa)\n",
    "actions = [[-1, 0], [1, 0],[0, -1], [0, 1]]\n",
    "#actions = [[-1, 0], [1, 0],[0, -1], [0, 1], [-1, -1], [1, 1], [1, -1], [-1, 1]]\n",
    "\n",
    "\"\"\"\n",
    "level = [\n",
    "    [0, 0, 0, 0, 0, 0, 0, 0, 0, 0],\n",
    "    [0, 0, 0, 0, 0, 0, 0, 0, 0, 0],\n",
    "    [0, 0, 0, 0, 0, 0, 0, 0, 0, 0],\n",
    "    [0, 0, 0, 0, 0, 0, 0, 0, 0, 0],\n",
    "    [0, 0, 0, 0, 0, 0, 0, 0, 0, 0],\n",
    "    [0, 0, 0, 0, 0, 0, 0, 0, 0, 0],\n",
    "    [0, 0, 0, 0, 0, 0, 0, 0, 0, 0],\n",
    "    [0, 0, 0, 0, 0, 0, 0, 0, 0, 0],\n",
    "    [0, 0, 0, 0, 0, 0, 0, 0, 0, 0],\n",
    "]\n",
    "\"\"\"\n",
    "\n",
    "level = [\n",
    "    [0 for _ in range(20)]  # Tuplataan sarakkeiden määrä 10 -> 20\n",
    "    for _ in range(18)       # Tuplataan rivien määrä 9 -> 18\n",
    "]\n",
    "\n",
    "# Tarkista lopputulos\n",
    "for row in level:\n",
    "    print(row)\n",
    "\n",
    "\n",
    "# Laillisen tilan tarkastusfunktio:\n",
    "def isLegalState(state):\n",
    "    x = state[0]\n",
    "    y = state[1]\n",
    "    if( x < 0 or y < 0):\n",
    "        return False\n",
    "    \n",
    "    if( y >= len(level) or x >= len(level[0]) ):\n",
    "        return False\n",
    "    return True\n",
    "\n",
    "# Suorittaa annetun actionin nykyisestä tilasta eteenpäin\n",
    "def makeAction(currentState, actionId):\n",
    "    deltaAction = actions[actionId]\n",
    "    newState = []\n",
    "    for i in range(len(currentState)):\n",
    "        newState.append(currentState[i]+deltaAction[i])\n",
    "    return newState\n",
    "\n",
    "# Suorittaa actionin nykyiseen tilaan ja tekee uuden solmun\n",
    "def stepAction(prevNode, actionId):\n",
    "    newState = makeAction(prevNode.state, actionId)\n",
    "    return SearchNode(newState, actionId, prevNode)\n",
    "\n",
    "def vectorLen(vec):\n",
    "    dotProduct = 0\n",
    "    for value in vec:\n",
    "        dotProduct += value*value\n",
    "    return math.sqrt(dotProduct)\n",
    "\n",
    "def sub(v1, v2):\n",
    "    result = []\n",
    "    for i in range(len(v1)):\n",
    "        result.append(v1[i] - v2[i])\n",
    "    return result\n",
    "\n",
    "# branch funktio algoritmille\n",
    "def getNextNodes(prevNode):\n",
    "    NextNodes = []\n",
    "    for actionId in range(len(actions)):\n",
    "        newNode = stepAction(prevNode, actionId)\n",
    "        x = prevNode.state[0]\n",
    "        y = prevNode.state[1]\n",
    "        levelCost = level[y][x] + 1\n",
    "        if(isLegalState(newNode.state)):\n",
    "            #  G-kustannus on edellisten g plus kustannus yhdelle askeleelle:\n",
    "            newNode.totalG = prevNode.totalG + levelCost*vectorLen(sub(prevNode.state, newNode.state))\n",
    "            NextNodes.append(newNode) # type: ignore\n",
    "    return NextNodes\n",
    "\n",
    "def popBestG(openList):\n",
    "    # oleta ensimmäinen pienimmäksi\n",
    "    currentNode = openList[0]\n",
    "    minIndex = 0\n",
    "    minG = currentNode.totalG\n",
    "    for index, item in enumerate(openList):\n",
    "        itemG = item.totalG\n",
    "        if( itemG < minG):\n",
    "            currentNode = item\n",
    "            minIndex = index\n",
    "            minG = itemG\n",
    "    openList.pop(minIndex)\n",
    "    return currentNode\n",
    "\n"
   ]
  },
  {
   "cell_type": "code",
   "execution_count": 47,
   "metadata": {},
   "outputs": [],
   "source": [
    "#goaledNode, openList = breadthFirstSearch(initialState, isGoalFound, getNextNodes)\n",
    "goaledNode, openList = dijkstra(initialState, popBestG, isGoalFound, getNextNodes)"
   ]
  },
  {
   "cell_type": "code",
   "execution_count": 48,
   "metadata": {},
   "outputs": [
    {
     "name": "stdout",
     "output_type": "stream",
     "text": [
      "State:[1, 0]Action: -1\n",
      "State:[2, 0]Action: 1\n",
      "State:[3, 0]Action: 1\n",
      "State:[4, 0]Action: 1\n",
      "State:[4, 1]Action: 3\n",
      "State:[4, 2]Action: 3\n",
      "State:[4, 3]Action: 3\n",
      "State:[4, 4]Action: 3\n",
      "State:[4, 5]Action: 3\n",
      "State:[4, 6]Action: 3\n"
     ]
    }
   ],
   "source": [
    "def printNode(node):\n",
    "    print(\"State:\" + str(node.state) + \"Action: \" + str(node.action))\n",
    "\n",
    "traversePath(goaledNode, printNode)\n"
   ]
  },
  {
   "cell_type": "markdown",
   "metadata": {},
   "source": [
    "# jääty kohtaan Hakualgoritmien refaktorointi pythnon mooduuliksi videon alku"
   ]
  },
  {
   "cell_type": "code",
   "execution_count": 49,
   "metadata": {},
   "outputs": [
    {
     "name": "stdout",
     "output_type": "stream",
     "text": [
      "Total cost of path: 9.0\n"
     ]
    },
    {
     "data": {
      "image/png": "[encoded data removed]",
      "text/plain": [
       "<Figure size 640x480 with 2 Axes>"
      ]
     },
     "metadata": {},
     "output_type": "display_data"
    }
   ],
   "source": [
    "\n",
    "\n",
    "def printNodeOnLevel(node):\n",
    "    putPixel(level, node.state, 2)\n",
    "\n",
    "def printOpenNodeOnLevel(node):\n",
    "    putPixel(level, node.state, 1)\n",
    "\n",
    "for openNode in openList:\n",
    "    printOpenNodeOnLevel(openNode)\n",
    "\n",
    "traversePath(goaledNode, printNodeOnLevel)\n",
    "\n",
    "print(\"Total cost of path: \" + str(goaledNode.totalG))\n",
    "printMap(level)"
   ]
  },
  {
   "cell_type": "markdown",
   "metadata": {},
   "source": [
    "[Source](https://www.youtube.com/watch?v=Q30m_-8nh3Y&list=PLadRxrHJkUqzoVmzO-CQWwhO93IAjChOp&index=18)"
   ]
  }
 ],
 "metadata": {
  "kernelspec": {
   "display_name": "venv",
   "language": "python",
   "name": "python3"
  },
  "language_info": {
   "codemirror_mode": {
    "name": "ipython",
    "version": 3
   },
   "file_extension": ".py",
   "mimetype": "text/x-python",
   "name": "python",
   "nbconvert_exporter": "python",
   "pygments_lexer": "ipython3",
   "version": "3.11.6"
  }
 },
 "nbformat": 4,
 "nbformat_minor": 2
}
