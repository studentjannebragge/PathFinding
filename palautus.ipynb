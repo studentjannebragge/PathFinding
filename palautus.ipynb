{
 "cells": [
  {
   "cell_type": "code",
   "execution_count": 1,
   "metadata": {},
   "outputs": [],
   "source": [
    "import matplotlib\n",
    "import numpy as np\n",
    "import matplotlib.pyplot as plt\n",
    "import matplotlib\n",
    "import matplotlib.colors as mcolors\n",
    "import numpy as np\n",
    "from levels import *\n",
    "from search_algos import *\n",
    "import time\n",
    "%matplotlib inline\n",
    "\n",
    "startpoints = []\n",
    "finishpoints = []\n",
    "\n",
    "for i in range(6):\n",
    "    startpoints.append(startpoint())\n",
    "    finishpoints.append(finishpoint())\n",
    "\n",
    "# Define the colors for the modified blue gradient\n",
    "colors = ['#A6B5CC', '#008B8B', '#000000', '#FF0000', '#FF00FF']\n",
    "color_positions = [0.0, 0.8, 0.85, 0.92, 1.0]\n",
    "# Create a custom colormap using LinearSegmentedColormap\n",
    "custom_cmap = mcolors.LinearSegmentedColormap.from_list(\"custom_blue_gradient\", list(zip(color_positions, colors)))\n",
    "\n",
    "\n",
    "def printMap(level):\n",
    "    pixel_plot = plt.figure()\n",
    "    pixel_plot.add_subplot()\n",
    "    plt.title(\"Map\")\n",
    "    pixel_plot = plt.imshow(level, cmap=custom_cmap, interpolation='nearest', origin='upper', vmax=11)\n",
    "    plt.colorbar(pixel_plot)\n",
    "    plt.show()\n",
    "\n",
    "def putPixel(level, position, value):\n",
    "    x = position[0]\n",
    "    y = position[1]\n",
    "    level[y][x] = value\n",
    "\n",
    "    "
   ]
  },
  {
   "cell_type": "code",
   "execution_count": 2,
   "metadata": {},
   "outputs": [],
   "source": [
    "\n",
    "\n",
    "def aStar(kierros):\n",
    "    \n",
    "\n",
    "    initialState = startpoints[kierros]\n",
    "    goalState = finishpoints[kierros]\n",
    "\n",
    "\n",
    "    start_time = time.time()\n",
    "    goaledNode, openList, closedList = searhPathFindInGrid(initialState, goalState, isLegalState, level, actions, popBestF)\n",
    "    #goaledNode, openList, closedList = searhPathFindInGrid(initialState, goalState, isLegalState, level, actions, popBestH)\n",
    "    #goaledNode, openList, closedList = searhPathFindInGrid(initialState, goalState, isLegalState, level, actions, popBestG)\n",
    "    end_time = time.time()\n",
    "    execution_time_BestF = end_time - start_time\n",
    "    name = \"A*\"\n",
    "    suoritusaika = (f\"{execution_time_BestF:.2f}\")\n",
    "\n",
    "    printpic(putPixel, goaledNode, printMap, openList)\n",
    "\n",
    "    dataTallennus(openList, closedList, goaledNode, name, suoritusaika)\n",
    "\n",
    "\n",
    "    # Luetaan CSV-tiedosto DataFrameksi\n",
    "    df = pd.read_csv(\"testi.csv\")\n",
    "\n",
    "    # Tulostetaan DataFrame varmistaaksemme, että tiedot on ladattu oikein\n",
    "    print(df)\n",
    "\n",
    "\n"
   ]
  },
  {
   "cell_type": "code",
   "execution_count": 3,
   "metadata": {},
   "outputs": [],
   "source": [
    "def ahnedijkstra(kierros):\n",
    "    \n",
    "\n",
    "    initialState = startpoints[kierros]\n",
    "    goalState = finishpoints[kierros]\n",
    "\n",
    "\n",
    "    start_time = time.time()\n",
    "    #goaledNode, openList, closedList = searhPathFindInGrid(initialState, goalState, isLegalState, level, actions, popBestF)\n",
    "    goaledNode, openList, closedList = searhPathFindInGrid(initialState, goalState, isLegalState, level, actions, popBestH)\n",
    "    #goaledNode, openList, closedList = searhPathFindInGrid(initialState, goalState, isLegalState, level, actions, popBestG)\n",
    "    end_time = time.time()\n",
    "    execution_time_BestF = end_time - start_time\n",
    "    name = \"ahne dijkstra\"\n",
    "    suoritusaika = (f\"{execution_time_BestF:.2f}\")\n",
    "\n",
    "    printpic(putPixel, goaledNode, printMap, openList)\n",
    "\n",
    "    dataTallennus(openList, closedList, goaledNode, name, suoritusaika)\n",
    "\n",
    "\n",
    "    # Luetaan CSV-tiedosto DataFrameksi\n",
    "    df = pd.read_csv(\"testi.csv\")\n",
    "\n",
    "    # Tulostetaan DataFrame varmistaaksemme, että tiedot on ladattu oikein\n",
    "    print(df)"
   ]
  },
  {
   "cell_type": "code",
   "execution_count": 4,
   "metadata": {},
   "outputs": [],
   "source": [
    "def leveysuunnattudijkstra(kierros):\n",
    "    \n",
    "\n",
    "    initialState = startpoints[kierros]\n",
    "    goalState = finishpoints[kierros]\n",
    "\n",
    "\n",
    "    start_time = time.time()\n",
    "    #goaledNode, openList, closedList = searhPathFindInGrid(initialState, goalState, isLegalState, level, actions, popBestF)\n",
    "    #goaledNode, openList, closedList = searhPathFindInGrid(initialState, goalState, isLegalState, level, actions, popBestH)\n",
    "    goaledNode, openList, closedList = searhPathFindInGrid(initialState, goalState, isLegalState, level, actions, popBestG)\n",
    "    end_time = time.time()\n",
    "    execution_time_BestF = end_time - start_time\n",
    "    name = \"leveysuunnattu dijkstra\"\n",
    "    suoritusaika = (f\"{execution_time_BestF:.2f}\")\n",
    "\n",
    "    printpic(putPixel, goaledNode, printMap, openList)\n",
    "\n",
    "    dataTallennus(openList, closedList, goaledNode, name, suoritusaika)\n",
    "\n",
    "\n",
    "    # Luetaan CSV-tiedosto DataFrameksi\n",
    "    df = pd.read_csv(\"testi.csv\")\n",
    "\n",
    "    # Tulostetaan DataFrame varmistaaksemme, että tiedot on ladattu oikein\n",
    "    print(df)"
   ]
  },
  {
   "cell_type": "markdown",
   "metadata": {},
   "source": [
    "[Source](https://www.youtube.com/watch?v=Q30m_-8nh3Y&list=PLadRxrHJkUqzoVmzO-CQWwhO93IAjChOp&index=18)"
   ]
  },
  {
   "cell_type": "code",
   "execution_count": 5,
   "metadata": {},
   "outputs": [
    {
     "data": {
      "image/png": "[encoded data removed]",
      "text/plain": [
       "<Figure size 640x480 with 2 Axes>"
      ]
     },
     "metadata": {},
     "output_type": "display_data"
    },
    {
     "name": "stdout",
     "output_type": "stream",
     "text": [
      "                      nimi suoritusaika kustannus  solmut\n",
      "0  leveysuunnattu dijkstra         1.17      82.0    7269\n",
      "                      nimi  suoritusaika  kustannus  solmut\n",
      "0                       A*          0.11       78.0    2521\n",
      "1            ahne dijkstra          0.00      134.0     309\n",
      "2  leveysuunnattu dijkstra          1.11       95.0    7211\n",
      "3  leveysuunnattu dijkstra          0.11       39.0    2467\n",
      "4  leveysuunnattu dijkstra          0.48      101.0    4721\n",
      "5  leveysuunnattu dijkstra          0.24      108.0    3307\n",
      "6  leveysuunnattu dijkstra          0.02       67.0     877\n",
      "7  leveysuunnattu dijkstra          0.05       36.0    1341\n",
      "8  leveysuunnattu dijkstra          1.17       82.0    7269\n"
     ]
    }
   ],
   "source": [
    "#aStar(1)\n",
    "#ahnedijkstra(2)\n",
    "leveysuunnattudijkstra(3)\n",
    "\n",
    "\n",
    "#for i in range(5):\n",
    "    #aStar(i)\n",
    "    #ahnedijkstra(i)\n",
    "    #leveysuunnattudijkstra(i)"
   ]
  }
 ],
 "metadata": {
  "kernelspec": {
   "display_name": "venv",
   "language": "python",
   "name": "python3"
  },
  "language_info": {
   "codemirror_mode": {
    "name": "ipython",
    "version": 3
   },
   "file_extension": ".py",
   "mimetype": "text/x-python",
   "name": "python",
   "nbconvert_exporter": "python",
   "pygments_lexer": "ipython3",
   "version": "3.11.6"
  }
 },
 "nbformat": 4,
 "nbformat_minor": 2
}
