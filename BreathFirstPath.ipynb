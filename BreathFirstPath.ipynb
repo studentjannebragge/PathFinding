{
 "cells": [
  {
   "cell_type": "code",
   "execution_count": 28,
   "metadata": {},
   "outputs": [],
   "source": [
    "class SearchNode:\n",
    "    def __init__(self, state, action=-1, prevNode=None):\n",
    "        self.state = state\n",
    "        self.action = action\n",
    "        self.prevNode = prevNode\n",
    "\n",
    "def traversePath(node, visitFunc):\n",
    "    if (node == None):\n",
    "        return # rekursion loppuehto\n",
    "    traversePath(node.prevNode, visitFunc)\n",
    "    visitFunc(node)\n",
    "    "
   ]
  },
  {
   "cell_type": "code",
   "execution_count": 24,
   "metadata": {},
   "outputs": [],
   "source": [
    "actions = [[-1, 0], [1, 0]]\n",
    "\n",
    "# Suorittaa annetun actionin nykyisestä tilasta eteenpäin\n",
    "def makeAction(currentState, actionId):\n",
    "    deltaAction = actions[actionId]\n",
    "    newState = []\n",
    "    for i in range(len(currentState)):\n",
    "        newState.append(currentState[i]+deltaAction[i])\n",
    "    return newState"
   ]
  },
  {
   "cell_type": "code",
   "execution_count": 25,
   "metadata": {},
   "outputs": [],
   "source": [
    "def printNode(node):\n",
    "    print(\"State:\" + str(node.state) + \"Action: \" + str(node.action))"
   ]
  },
  {
   "cell_type": "code",
   "execution_count": 26,
   "metadata": {},
   "outputs": [
    {
     "name": "stdout",
     "output_type": "stream",
     "text": [
      "State:[0, 0]Action: -1\n",
      "State:[1, 0]Action: 1\n",
      "State:[2, 0]Action: 1\n",
      "State:[3, 0]Action: 1\n",
      "State:[4, 0]Action: 1\n",
      "State:[5, 0]Action: 1\n"
     ]
    }
   ],
   "source": [
    "# Tee muutama action\n",
    "initialState = [0, 0]\n",
    "node = SearchNode(initialState)\n",
    "printNode(node)\n",
    "\n",
    "\n",
    "for i in range(5):\n",
    "    # Tee action oikealle actionID:llä 1\n",
    "    newState = makeAction(node.state, 1)\n",
    "    node = SearchNode(newState, 1, node)\n",
    "    printNode(node)\n"
   ]
  },
  {
   "cell_type": "code",
   "execution_count": 29,
   "metadata": {},
   "outputs": [
    {
     "name": "stdout",
     "output_type": "stream",
     "text": [
      "State:[0, 0]Action: -1\n",
      "State:[1, 0]Action: 1\n",
      "State:[2, 0]Action: 1\n",
      "State:[3, 0]Action: 1\n",
      "State:[4, 0]Action: 1\n",
      "State:[5, 0]Action: 1\n"
     ]
    }
   ],
   "source": [
    "traversePath(node, printNode)"
   ]
  },
  {
   "cell_type": "code",
   "execution_count": null,
   "metadata": {},
   "outputs": [],
   "source": []
  }
 ],
 "metadata": {
  "kernelspec": {
   "display_name": "venv",
   "language": "python",
   "name": "python3"
  },
  "language_info": {
   "codemirror_mode": {
    "name": "ipython",
    "version": 3
   },
   "file_extension": ".py",
   "mimetype": "text/x-python",
   "name": "python",
   "nbconvert_exporter": "python",
   "pygments_lexer": "ipython3",
   "version": "3.11.6"
  }
 },
 "nbformat": 4,
 "nbformat_minor": 2
}
