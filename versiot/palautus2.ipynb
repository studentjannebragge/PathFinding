{
 "cells": [
  {
   "cell_type": "code",
   "execution_count": 1,
   "metadata": {},
   "outputs": [],
   "source": [
    "import matplotlib\n",
    "import numpy as np\n",
    "import matplotlib.pyplot as plt\n",
    "import matplotlib\n",
    "import matplotlib.colors as mcolors\n",
    "import numpy as np\n",
    "from levels import *\n",
    "%matplotlib inline\n",
    "\n",
    "# Define the colors for the modified blue gradient\n",
    "colors = ['#A6B5CC', '#008B8B', '#000000', '#FF0000', '#FF00FF']\n",
    "color_positions = [0.0, 0.8, 0.85, 0.92, 1.0]\n",
    "# Create a custom colormap using LinearSegmentedColormap\n",
    "custom_cmap = mcolors.LinearSegmentedColormap.from_list(\"custom_blue_gradient\", list(zip(color_positions, colors)))\n",
    "\n",
    "\n",
    "def printMap(level):\n",
    "    pixel_plot = plt.figure()\n",
    "    pixel_plot.add_subplot()\n",
    "    plt.title(\"Map\")\n",
    "    pixel_plot = plt.imshow(level, cmap=custom_cmap, interpolation='nearest', origin='upper', vmax=11)\n",
    "    plt.colorbar(pixel_plot)\n",
    "    plt.show()\n",
    "\n",
    "def putPixel(level, position, value):\n",
    "    x = position[0]\n",
    "    y = position[1]\n",
    "    level[y][x] = value"
   ]
  },
  {
   "cell_type": "code",
   "execution_count": null,
   "metadata": {},
   "outputs": [],
   "source": []
  },
  {
   "cell_type": "code",
   "execution_count": 2,
   "metadata": {},
   "outputs": [],
   "source": [
    "# Ratkaistava ongelma\n",
    "from search_algos import *\n",
    "import random\n",
    "\n",
    "starts = [[random.randint(1, 63), random.randint(1, 63)] for _ in range(5)]\n",
    "finishes = [[random.randint(1, 63), random.randint(1, 63)] for _ in range(5)]\n",
    "\n",
    "\n",
    "initialState = starts[0]\n",
    "goalState = finishes[0]\n",
    "\n",
    "# actionit taulukoituna: (0 suuntaa)\n",
    "actions = [[-1, 0], [1, 0],[0, -1], [0, 1]]\n",
    "#actions = [[-1, 0], [1, 0],[0, -1], [0, 1], [-1, -1], [1, 1], [1, -1], [-1, 1]]\n",
    "\n",
    "# Laillisen tilan tarkastusfunktio:\n",
    "def isLegalState(state):\n",
    "    x = state[0]\n",
    "    y = state[1]\n",
    "    if( x < 0 or y < 0):\n",
    "        return False\n",
    "    if( y >= len(level) or x >= len(level[y]) ):\n",
    "        return False\n",
    "    return level[y][x] < 9 #estetään seinien läpi kävely\n",
    "\n",
    "\n",
    "    \n"
   ]
  },
  {
   "cell_type": "code",
   "execution_count": 3,
   "metadata": {},
   "outputs": [],
   "source": [
    "import time\n",
    "\n",
    "# leveysuunnattu dijkstra:\n",
    "#goaledNode, openList = searhPathFindInGrid(initialState, goalState, isLegalState, level, actions, popBestG)\n",
    "\n",
    "# ahne dijkstra:\n",
    "#goaledNode, openList = searhPathFindInGrid(initialState, goalState, isLegalState, level, actions, popBestH)\n",
    "\n",
    "# A*\n",
    "start_time = time.time()\n",
    "goaledNode, openList, closedList = searhPathFindInGrid(initialState, goalState, isLegalState, level, actions, popBestF)\n",
    "end_time = time.time()\n",
    "execution_time_BestF = end_time - start_time\n",
    "name = \"A*\"\n",
    "\n",
    "\n",
    "suoritusaika = (f\"{execution_time_BestF:.2f}\")\n"
   ]
  },
  {
   "cell_type": "code",
   "execution_count": 4,
   "metadata": {},
   "outputs": [
    {
     "data": {
      "image/png": "[encoded data removed]",
      "text/plain": [
       "<Figure size 640x480 with 2 Axes>"
      ]
     },
     "metadata": {},
     "output_type": "display_data"
    },
    {
     "name": "stdout",
     "output_type": "stream",
     "text": [
      "  nimi suoritusaika kustannus  solmut\n",
      "0   A*         0.02      50.0     987\n"
     ]
    }
   ],
   "source": [
    "import pandas as pd\n",
    "import os\n",
    "\n",
    "\n",
    "\n",
    "def printNodeOnLevel(node):\n",
    "    putPixel(level, node.state, 11)\n",
    "\n",
    "def printOpenNodeOnLevel(node):\n",
    "    putPixel(level, node.state, 10)\n",
    "\n",
    "traversePath(goaledNode, printNodeOnLevel)\n",
    "\n",
    "for openNode in openList:\n",
    "    printOpenNodeOnLevel(openNode)\n",
    "\n",
    "printMap(level)\n",
    "\n",
    "\n",
    "\n",
    "\n",
    "solmut = len(openList) + len(closedList)\n",
    "kustannus = str(goaledNode.totalG)\n",
    "\n",
    "\n",
    "\n",
    "\n",
    "# Oletetaan, että meillä on DataFrame\n",
    "data = {\n",
    "    \"nimi\": [name],\n",
    "    \"suoritusaika\": [suoritusaika],\n",
    "    \"kustannus\": [kustannus],\n",
    "    \"solmut\": [solmut]\n",
    "}\n",
    "\n",
    "df = pd.DataFrame(data)\n",
    "\n",
    "\n",
    "file_path = \"testi.csv\"\n",
    "if not os.path.exists(file_path):\n",
    "    # Jos tiedostoa ei ole, luodaan se ja lisätään otsikot\n",
    "    df.to_csv(file_path, index=False)\n",
    "else:\n",
    "    # Jos tiedosto on olemassa, lisätään tiedot ilman otsikoita\n",
    "    df.to_csv(file_path, mode='a', index=False, header=False)\n",
    "\n",
    "\n",
    "print(df[[\"nimi\", \"suoritusaika\", \"kustannus\", \"solmut\"]])\n",
    "\n",
    "\n",
    "\n",
    "\n",
    "\n"
   ]
  },
  {
   "cell_type": "markdown",
   "metadata": {},
   "source": [
    "[Source](https://www.youtube.com/watch?v=Q30m_-8nh3Y&list=PLadRxrHJkUqzoVmzO-CQWwhO93IAjChOp&index=18)"
   ]
  },
  {
   "cell_type": "code",
   "execution_count": 5,
   "metadata": {},
   "outputs": [
    {
     "name": "stdout",
     "output_type": "stream",
     "text": [
      "  nimi  suoritusaika  kustannus  solmut\n",
      "0   A*          0.01       34.0     729\n",
      "1   A*          0.16       79.0    2821\n",
      "2   A*          0.21       95.0    3197\n",
      "3   A*          0.96      121.0    6855\n",
      "4   A*          0.00       25.0     175\n",
      "5   A*          0.02       50.0     987\n"
     ]
    }
   ],
   "source": [
    "\n",
    "\n",
    "# Luetaan CSV-tiedosto DataFrameksi\n",
    "df = pd.read_csv(\"testi.csv\")\n",
    "\n",
    "# Tulostetaan DataFrame varmistaaksemme, että tiedot on ladattu oikein\n",
    "print(df)\n",
    "\n",
    "\n",
    "\n"
   ]
  }
 ],
 "metadata": {
  "kernelspec": {
   "display_name": "venv",
   "language": "python",
   "name": "python3"
  },
  "language_info": {
   "codemirror_mode": {
    "name": "ipython",
    "version": 3
   },
   "file_extension": ".py",
   "mimetype": "text/x-python",
   "name": "python",
   "nbconvert_exporter": "python",
   "pygments_lexer": "ipython3",
   "version": "3.11.6"
  }
 },
 "nbformat": 4,
 "nbformat_minor": 2
}
