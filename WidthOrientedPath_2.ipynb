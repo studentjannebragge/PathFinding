{
 "cells": [
  {
   "cell_type": "code",
   "execution_count": 2,
   "metadata": {},
   "outputs": [],
   "source": [
    "class SearchNode:\n",
    "    def __init__(self, state, action=-1, prevNode=None):\n",
    "        self.state = state\n",
    "        self.action = action\n",
    "        self.prevNode = prevNode\n",
    "\n",
    "def traversePath(node, visitFunc):\n",
    "    if (node == None):\n",
    "        return # rekursion loppuehto\n",
    "    traversePath(node.prevNode, visitFunc)\n",
    "    visitFunc(node)\n",
    "    "
   ]
  },
  {
   "cell_type": "code",
   "execution_count": 3,
   "metadata": {},
   "outputs": [],
   "source": [
    "actions = [[-1, 0], [1, 0]]\n",
    "\n",
    "# Suorittaa annetun actionin nykyisestä tilasta eteenpäin\n",
    "def makeAction(currentState, actionId):\n",
    "    deltaAction = actions[actionId]\n",
    "    newState = []\n",
    "    for i in range(len(currentState)):\n",
    "        newState.append(currentState[i]+deltaAction[i])\n",
    "    return newState\n",
    "\n",
    "def getNextNodes(prevNode, actionCount):\n",
    "    NextNodes = []\n",
    "    for actionId in range(actionCount):\n",
    "        NextNodes.append(stepAction(prevNode,actionId))\n",
    "    return NextNodes"
   ]
  },
  {
   "cell_type": "code",
   "execution_count": 4,
   "metadata": {},
   "outputs": [],
   "source": [
    "def printNode(node):\n",
    "    print(\"State:\" + str(node.state) + \"Action: \" + str(node.action))\n",
    "\n",
    "# Suorittaa actionin nykyiseen tilaan ja tekee uuden solmun\n",
    "def stepAction(prevNode, actionId):\n",
    "    newState = makeAction(prevNode.state, actionId)\n",
    "    return SearchNode(newState, actionId, prevNode)"
   ]
  },
  {
   "cell_type": "code",
   "execution_count": 5,
   "metadata": {},
   "outputs": [
    {
     "name": "stdout",
     "output_type": "stream",
     "text": [
      "State:[0, 0]Action: -1\n",
      "State:[1, 0]Action: 1\n",
      "State:[2, 0]Action: 1\n",
      "State:[3, 0]Action: 1\n",
      "State:[4, 0]Action: 1\n",
      "State:[5, 0]Action: 1\n"
     ]
    }
   ],
   "source": [
    "# Tee muutama action\n",
    "initialState = [0, 0]\n",
    "node = SearchNode(initialState)\n",
    "printNode(node)\n",
    "\n",
    "\n",
    "for i in range(5):\n",
    "    # Tee action oikealle actionID:llä 1\n",
    "    node = stepAction(node, 1)\n",
    "    printNode(node)\n"
   ]
  },
  {
   "cell_type": "code",
   "execution_count": 6,
   "metadata": {},
   "outputs": [
    {
     "name": "stdout",
     "output_type": "stream",
     "text": [
      "State:[0, 0]Action: -1\n",
      "State:[1, 0]Action: 1\n",
      "State:[2, 0]Action: 1\n",
      "State:[3, 0]Action: 1\n",
      "State:[4, 0]Action: 1\n",
      "State:[5, 0]Action: 1\n"
     ]
    }
   ],
   "source": [
    "traversePath(node, printNode)"
   ]
  },
  {
   "cell_type": "code",
   "execution_count": 7,
   "metadata": {},
   "outputs": [
    {
     "name": "stdout",
     "output_type": "stream",
     "text": [
      "State:[0, 0]Action: -1\n",
      "polku 1: \n",
      "State:[0, 0]Action: -1\n",
      "State:[-1, 0]Action: 0\n",
      "polku 2: \n",
      "State:[0, 0]Action: -1\n",
      "State:[1, 0]Action: 1\n"
     ]
    }
   ],
   "source": [
    "node = SearchNode([0, 0])\n",
    "printNode(node)\n",
    "\n",
    "nextNodes = getNextNodes(node, len(actions))\n",
    "\n",
    "len(nextNodes)\n",
    "print(\"polku 1: \")\n",
    "traversePath(nextNodes[0], printNode)\n",
    "print(\"polku 2: \")\n",
    "traversePath(nextNodes[1], printNode)\n"
   ]
  },
  {
   "cell_type": "code",
   "execution_count": 8,
   "metadata": {},
   "outputs": [
    {
     "name": "stdout",
     "output_type": "stream",
     "text": [
      "laajennettu polku 1: \n",
      "polku 1/1: \n",
      "State:[0, 0]Action: -1\n",
      "State:[-1, 0]Action: 0\n",
      "State:[-2, 0]Action: 0\n",
      "polku 1/2: \n",
      "State:[0, 0]Action: -1\n",
      "State:[-1, 0]Action: 0\n",
      "State:[0, 0]Action: 1\n"
     ]
    }
   ],
   "source": [
    "print(\"laajennettu polku 1: \")\n",
    "nextNodes1 = getNextNodes(nextNodes[0], len(actions))\n",
    "len(nextNodes1)\n",
    "print(\"polku 1/1: \")\n",
    "traversePath(nextNodes1[0], printNode)\n",
    "print(\"polku 1/2: \")\n",
    "traversePath(nextNodes1[1], printNode)"
   ]
  },
  {
   "cell_type": "code",
   "execution_count": 9,
   "metadata": {},
   "outputs": [
    {
     "name": "stdout",
     "output_type": "stream",
     "text": [
      "laajennettu polku 2: \n",
      "polku 2/1: \n",
      "State:[0, 0]Action: -1\n",
      "State:[1, 0]Action: 1\n",
      "State:[0, 0]Action: 0\n",
      "polku 2/2: \n",
      "State:[0, 0]Action: -1\n",
      "State:[1, 0]Action: 1\n",
      "State:[2, 0]Action: 1\n"
     ]
    }
   ],
   "source": [
    "print(\"laajennettu polku 2: \")\n",
    "nextNodes2 = getNextNodes(nextNodes[1], len(actions))\n",
    "len(nextNodes2)\n",
    "print(\"polku 2/1: \")\n",
    "traversePath(nextNodes2[0], printNode)\n",
    "print(\"polku 2/2: \")\n",
    "traversePath(nextNodes2[1], printNode)"
   ]
  },
  {
   "cell_type": "code",
   "execution_count": null,
   "metadata": {},
   "outputs": [],
   "source": []
  },
  {
   "cell_type": "code",
   "execution_count": 33,
   "metadata": {},
   "outputs": [],
   "source": [
    "# Leveyssuunnattu haku:\n",
    "def isGoalFound(node):\n",
    "    return node.state[0] == 5 # goal tilassa 5\n",
    "\n",
    "# lisää alkutila open listiin\n",
    "openList = [SearchNode([0 ,0])]\n",
    "closedList = []\n",
    "goaledNode = None\n",
    "\n",
    "def isInClosedList(node):\n",
    "    for n in closedList:\n",
    "        if(node.state == n.state):\n",
    "            return True #löytyi\n",
    "    return False #ei löytynyt\n",
    "\n",
    "while len(openList) > 0 and goaledNode == None:\n",
    "    currentNode = openList[0]\n",
    "    openList.pop(0)\n",
    "    if(isInClosedList(currentNode)):\n",
    "        continue\n",
    "\n",
    "    # lisää solmu closed listaan\n",
    "    closedList.append(currentNode)\n",
    "    if isGoalFound(currentNode):\n",
    "        goaledNode = currentNode\n",
    "        continue\n",
    "\n",
    "    # Laske seuraavat naapurisolmut\n",
    "    adjacentNodes = getNextNodes(currentNode, len(actions))\n",
    "    for n in adjacentNodes:\n",
    "        openList.append(n)\n"
   ]
  },
  {
   "cell_type": "code",
   "execution_count": 34,
   "metadata": {},
   "outputs": [
    {
     "data": {
      "text/plain": [
       "2"
      ]
     },
     "execution_count": 34,
     "metadata": {},
     "output_type": "execute_result"
    }
   ],
   "source": [
    "len(openList)"
   ]
  },
  {
   "cell_type": "code",
   "execution_count": 35,
   "metadata": {},
   "outputs": [
    {
     "name": "stdout",
     "output_type": "stream",
     "text": [
      "Polku 0:\n",
      "State:[0, 0]Action: -1\n",
      "State:[-1, 0]Action: 0\n",
      "State:[-2, 0]Action: 0\n",
      "State:[-3, 0]Action: 0\n",
      "State:[-4, 0]Action: 0\n",
      "State:[-5, 0]Action: 0\n",
      "State:[-6, 0]Action: 0\n",
      "Polku 1:\n",
      "State:[0, 0]Action: -1\n",
      "State:[-1, 0]Action: 0\n",
      "State:[-2, 0]Action: 0\n",
      "State:[-3, 0]Action: 0\n",
      "State:[-4, 0]Action: 0\n",
      "State:[-5, 0]Action: 0\n",
      "State:[-4, 0]Action: 1\n",
      "löytynyt polku:\n",
      "State:[0, 0]Action: -1\n",
      "State:[1, 0]Action: 1\n",
      "State:[2, 0]Action: 1\n",
      "State:[3, 0]Action: 1\n",
      "State:[4, 0]Action: 1\n",
      "State:[5, 0]Action: 1\n"
     ]
    }
   ],
   "source": [
    "index = 0\n",
    "for n in openList:\n",
    "    print(\"Polku \" + str(index) + \":\")\n",
    "    traversePath(n, printNode)\n",
    "    index = index + 1\n",
    "\n",
    "\n",
    "print(\"löytynyt polku:\")\n",
    "traversePath(goaledNode, printNode)\n"
   ]
  },
  {
   "cell_type": "code",
   "execution_count": null,
   "metadata": {},
   "outputs": [],
   "source": []
  },
  {
   "cell_type": "code",
   "execution_count": null,
   "metadata": {},
   "outputs": [],
   "source": []
  },
  {
   "cell_type": "code",
   "execution_count": null,
   "metadata": {},
   "outputs": [],
   "source": []
  },
  {
   "cell_type": "code",
   "execution_count": 10,
   "metadata": {},
   "outputs": [
    {
     "name": "stdout",
     "output_type": "stream",
     "text": [
      "katsottu video kohtaan 15:00 \n"
     ]
    }
   ],
   "source": [
    "print(f'katsottu video kohtaan 15:00 ')\n",
    "\n",
    "linkki = \"https://www.youtube.com/watch?v=HHAPEFoPOdE&list=PLadRxrHJkUqzoVmzO-CQWwhO93IAjChOp&index=16\""
   ]
  },
  {
   "cell_type": "code",
   "execution_count": null,
   "metadata": {},
   "outputs": [],
   "source": []
  }
 ],
 "metadata": {
  "kernelspec": {
   "display_name": "venv",
   "language": "python",
   "name": "python3"
  },
  "language_info": {
   "codemirror_mode": {
    "name": "ipython",
    "version": 3
   },
   "file_extension": ".py",
   "mimetype": "text/x-python",
   "name": "python",
   "nbconvert_exporter": "python",
   "pygments_lexer": "ipython3",
   "version": "3.11.6"
  }
 },
 "nbformat": 4,
 "nbformat_minor": 2
}
