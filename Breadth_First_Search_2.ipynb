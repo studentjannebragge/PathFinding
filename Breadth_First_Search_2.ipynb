{
 "cells": [
  {
   "cell_type": "code",
   "execution_count": 8,
   "metadata": {},
   "outputs": [],
   "source": [
    "import matplotlib\n",
    "import numpy \n",
    "import matplotlib.pyplot as plt\n",
    "%matplotlib inline\n",
    "\n",
    "def printMap(level):\n",
    "    pixel_plot = plt.figure()\n",
    "    pixel_plot.add_subplot()\n",
    "    plt.title(\"Map\")\n",
    "    pixel_plot = plt.imshow(level, cmap='Greens', interpolation='nearest', origin='upper', vmax=5)\n",
    "    plt.colorbar(pixel_plot)\n",
    "    plt.show()\n",
    "\n",
    "def putPixel(level, position, value):\n",
    "    x = position[0]\n",
    "    y = position[1]\n",
    "    level[y][x] = value"
   ]
  },
  {
   "cell_type": "code",
   "execution_count": 9,
   "metadata": {},
   "outputs": [],
   "source": [
    "class SearchNode:\n",
    "    def __init__(self, state, action=-1, prevNode=None):\n",
    "        self.state = state\n",
    "        self.action = action\n",
    "        self.prevNode = prevNode\n",
    "\n",
    "def traversePath(node, visitFunc):\n",
    "    if (node == None):\n",
    "        return # rekursion loppuehto\n",
    "    traversePath(node.prevNode, visitFunc)\n",
    "    visitFunc(node)"
   ]
  },
  {
   "cell_type": "code",
   "execution_count": 10,
   "metadata": {},
   "outputs": [],
   "source": [
    "def breadthFirstSearch(agentState, isGoal, branch):\n",
    "    # lisää alkutila open listiin\n",
    "    openList = [SearchNode(agentState)]\n",
    "    closedList = []\n",
    "    goaledNode = None\n",
    "\n",
    "    def isInClosedList(node):\n",
    "        for n in closedList:\n",
    "            if(node.state == n.state):\n",
    "                return True #löytyi\n",
    "        return False #ei löytynyt\n",
    "\n",
    "    while len(openList) > 0 and goaledNode == None:\n",
    "        currentNode = openList[0]\n",
    "        openList.pop(0)\n",
    "        if(isInClosedList(currentNode)):\n",
    "            continue\n",
    "\n",
    "        # lisää solmu closed listaan\n",
    "        closedList.append(currentNode)\n",
    "        if isGoalFound(currentNode):\n",
    "            goaledNode = currentNode\n",
    "            continue\n",
    "\n",
    "        # Laske seuraavat naapurisolmut\n",
    "        adjacentNodes = branch(currentNode) # kutsu branch funktiota kanditaattien saamiseksi\n",
    "        for n in adjacentNodes:\n",
    "            openList.append(n)  \n",
    "\n",
    "\n",
    "    return goaledNode"
   ]
  },
  {
   "cell_type": "code",
   "execution_count": 11,
   "metadata": {},
   "outputs": [],
   "source": [
    "# Ratkaistava ongelma\n",
    "\n",
    "#alkutilanne:\n",
    "initialState = [0, 0]\n",
    "\n",
    "# maalifunktio:\n",
    "def isGoalFound(node):\n",
    "    return node.state[0] == 4 and node.state[1] == 6  # goal tilassa 4, 6\n",
    "\n",
    "# actionit taulukoituna: (4 suuntaa)\n",
    "actions = [[-1, 0], [1, 0],[0, -1], [0, 1]]\n",
    "\n",
    "# Suorittaa annetun actionin nykyisestä tilasta eteenpäin\n",
    "def makeAction(currentState, actionId):\n",
    "    deltaAction = actions[actionId]\n",
    "    newState = []\n",
    "    for i in range(len(currentState)):\n",
    "        newState.append(currentState[i]+deltaAction[i])\n",
    "    return newState\n",
    "\n",
    "# Suorittaa actionin nykyiseen tilaan ja tekee uuden solmun\n",
    "def stepAction(prevNode, actionId):\n",
    "    newState = makeAction(prevNode.state, actionId)\n",
    "    return SearchNode(newState, actionId, prevNode)\n",
    "\n",
    "def getNextNodes(prevNode):\n",
    "    NextNodes = []\n",
    "    for actionId in range(len(actions)):\n",
    "        NextNodes.append(stepAction(prevNode,actionId)) # type: ignore\n",
    "    return NextNodes"
   ]
  },
  {
   "cell_type": "code",
   "execution_count": 12,
   "metadata": {},
   "outputs": [],
   "source": [
    "goaledNode = breadthFirstSearch(initialState, isGoalFound, getNextNodes)"
   ]
  },
  {
   "cell_type": "code",
   "execution_count": 14,
   "metadata": {},
   "outputs": [
    {
     "name": "stdout",
     "output_type": "stream",
     "text": [
      "State:[0, 0]Action: -1\n",
      "State:[1, 0]Action: 1\n",
      "State:[2, 0]Action: 1\n",
      "State:[3, 0]Action: 1\n",
      "State:[4, 0]Action: 1\n",
      "State:[4, 1]Action: 3\n",
      "State:[4, 2]Action: 3\n",
      "State:[4, 3]Action: 3\n",
      "State:[4, 4]Action: 3\n",
      "State:[4, 5]Action: 3\n",
      "State:[4, 6]Action: 3\n"
     ]
    }
   ],
   "source": [
    "def printNode(node):\n",
    "    print(\"State:\" + str(node.state) + \"Action: \" + str(node.action))\n",
    "\n",
    "traversePath(goaledNode, printNode)"
   ]
  },
  {
   "cell_type": "code",
   "execution_count": 16,
   "metadata": {},
   "outputs": [
    {
     "data": {
      "image/png": "[encoded data removed]",
      "text/plain": [
       "<Figure size 640x480 with 2 Axes>"
      ]
     },
     "metadata": {},
     "output_type": "display_data"
    }
   ],
   "source": [
    "level = [\n",
    "    [0, 0, 0, 0, 0, 0, 0, 0, 0, 0],\n",
    "    [0, 0, 0, 0, 0, 0, 0, 0, 0, 0],\n",
    "    [0, 0, 0, 0, 0, 0, 0, 0, 0, 0],\n",
    "    [0, 0, 0, 0, 0, 0, 0, 0, 0, 0],\n",
    "    [0, 0, 0, 0, 0, 0, 0, 0, 0, 0],\n",
    "    [0, 0, 0, 0, 0, 0, 0, 0, 0, 0],\n",
    "    [0, 0, 0, 0, 0, 0, 0, 0, 0, 0],\n",
    "    [0, 0, 0, 0, 0, 0, 0, 0, 0, 0],\n",
    "    [0, 0, 0, 0, 0, 0, 0, 0, 0, 0],\n",
    "]\n",
    "\n",
    "def printNodeOnLevel(node):\n",
    "    putPixel(level, node.state, 1)\n",
    "\n",
    "traversePath(goaledNode, printNodeOnLevel)\n",
    "\n",
    "printMap(level)"
   ]
  },
  {
   "cell_type": "markdown",
   "metadata": {},
   "source": [
    "[Source](https://www.youtube.com/watch?v=Q30m_-8nh3Y&list=PLadRxrHJkUqzoVmzO-CQWwhO93IAjChOp&index=18)"
   ]
  },
  {
   "cell_type": "markdown",
   "metadata": {},
   "source": []
  }
 ],
 "metadata": {
  "kernelspec": {
   "display_name": "venv",
   "language": "python",
   "name": "python3"
  },
  "language_info": {
   "codemirror_mode": {
    "name": "ipython",
    "version": 3
   },
   "file_extension": ".py",
   "mimetype": "text/x-python",
   "name": "python",
   "nbconvert_exporter": "python",
   "pygments_lexer": "ipython3",
   "version": "3.11.6"
  }
 },
 "nbformat": 4,
 "nbformat_minor": 2
}
