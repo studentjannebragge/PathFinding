{
 "cells": [
  {
   "cell_type": "code",
   "execution_count": 20,
   "metadata": {},
   "outputs": [],
   "source": [
    "import matplotlib\n",
    "import numpy \n",
    "import matplotlib.pyplot as plt\n",
    "import math\n",
    "%matplotlib inline\n",
    "\n",
    "def printMap(level):\n",
    "    pixel_plot = plt.figure()\n",
    "    pixel_plot.add_subplot()\n",
    "    plt.title(\"Map\")\n",
    "    pixel_plot = plt.imshow(level, cmap='Greens', interpolation='nearest', origin='upper', vmax=5)\n",
    "    plt.colorbar(pixel_plot)\n",
    "    plt.show()\n",
    "\n",
    "def putPixel(level, position, value):\n",
    "    x = position[0]\n",
    "    y = position[1]\n",
    "    level[y][x] = value"
   ]
  },
  {
   "cell_type": "code",
   "execution_count": null,
   "metadata": {},
   "outputs": [],
   "source": []
  },
  {
   "cell_type": "code",
   "execution_count": null,
   "metadata": {},
   "outputs": [],
   "source": []
  },
  {
   "cell_type": "code",
   "execution_count": 21,
   "metadata": {},
   "outputs": [],
   "source": [
    "# Ratkaistava ongelma\n",
    "\n",
    "from search_algos import *\n",
    "\n",
    "#alkutilanne:\n",
    "initialState = [0, 0]\n",
    "goalState = [15, 17]\n",
    "\n",
    "\n",
    "# actionit taulukoituna: (0 suuntaa)\n",
    "actions = [[-1, 0], [1, 0],[0, -1], [0, 1]]\n",
    "#actions = [[-1, 0], [1, 0],[0, -1], [0, 1], [-1, -1], [1, 1], [1, -1], [-1, 1]]\n",
    "\n",
    "\"\"\"\n",
    "level = [\n",
    "    [0, 0, 0, 0, 0, 0, 0, 0, 0, 0],\n",
    "    [0, 0, 0, 0, 0, 0, 0, 0, 0, 0],\n",
    "    [0, 0, 0, 0, 0, 0, 0, 0, 0, 0],\n",
    "    [0, 0, 0, 0, 0, 0, 0, 0, 0, 0],\n",
    "    [0, 0, 0, 0, 0, 0, 0, 0, 0, 0],\n",
    "    [0, 0, 0, 0, 0, 0, 0, 0, 0, 0],\n",
    "    [0, 0, 0, 0, 0, 0, 0, 0, 0, 0],\n",
    "    [0, 0, 0, 0, 0, 0, 0, 0, 0, 0],\n",
    "    [0, 0, 0, 0, 0, 0, 0, 0, 0, 0],\n",
    "]\n",
    "\"\"\"\n",
    "\n",
    "level = [\n",
    "    [0 for _ in range(17)]  # sarakkeiden määrä\n",
    "    for _ in range(26)       # rivien määrä\n",
    "]\n",
    "\n",
    "# Tarkista lopputulos\n",
    "#for row in level:\n",
    "    #print(row)\n",
    "\n",
    "\n",
    "# Laillisen tilan tarkastusfunktio:\n",
    "def isLegalState(state):\n",
    "    x = state[0]\n",
    "    y = state[1]\n",
    "    if( x < 0 or y < 0):\n",
    "        return False\n",
    "    \n",
    "    if( y >= len(level) or x >= len(level[0]) ):\n",
    "        return False\n",
    "    return True\n",
    "    \n",
    "def popBestG(openList):\n",
    "    # oleta ensimmäinen pienimmäksi\n",
    "    currentNode = openList[0]\n",
    "    minIndex = 0\n",
    "    minG = currentNode.totalG\n",
    "    for index, item in enumerate(openList):\n",
    "        itemG = item.totalG\n",
    "        if( itemG < minG):\n",
    "            currentNode = item\n",
    "            minIndex = index\n",
    "            minG = itemG\n",
    "    openList.pop(minIndex)\n",
    "    return currentNode\n",
    "\n"
   ]
  },
  {
   "cell_type": "code",
   "execution_count": 22,
   "metadata": {},
   "outputs": [],
   "source": [
    "\n",
    "goaledNode, openList = searhPathFindInGrid(initialState, goalState, isLegalState, level, actions, popBestG)"
   ]
  },
  {
   "cell_type": "code",
   "execution_count": 23,
   "metadata": {},
   "outputs": [
    {
     "name": "stdout",
     "output_type": "stream",
     "text": [
      "Total cost of path: 32.0\n"
     ]
    },
    {
     "data": {
      "image/png": "[encoded data removed]",
      "text/plain": [
       "<Figure size 640x480 with 2 Axes>"
      ]
     },
     "metadata": {},
     "output_type": "display_data"
    }
   ],
   "source": [
    "\n",
    "\n",
    "def printNodeOnLevel(node):\n",
    "    putPixel(level, node.state, 2)\n",
    "\n",
    "def printOpenNodeOnLevel(node):\n",
    "    putPixel(level, node.state, 1)\n",
    "\n",
    "#for openNode in openList:\n",
    "    #printOpenNodeOnLevel(openNode)\n",
    "\n",
    "traversePath(goaledNode, printNodeOnLevel)\n",
    "\n",
    "print(\"Total cost of path: \" + str(goaledNode.totalG))\n",
    "printMap(level)"
   ]
  },
  {
   "cell_type": "markdown",
   "metadata": {},
   "source": [
    "[Source](https://www.youtube.com/watch?v=Q30m_-8nh3Y&list=PLadRxrHJkUqzoVmzO-CQWwhO93IAjChOp&index=18)"
   ]
  }
 ],
 "metadata": {
  "kernelspec": {
   "display_name": "venv",
   "language": "python",
   "name": "python3"
  },
  "language_info": {
   "codemirror_mode": {
    "name": "ipython",
    "version": 3
   },
   "file_extension": ".py",
   "mimetype": "text/x-python",
   "name": "python",
   "nbconvert_exporter": "python",
   "pygments_lexer": "ipython3",
   "version": "3.11.6"
  }
 },
 "nbformat": 4,
 "nbformat_minor": 2
}
